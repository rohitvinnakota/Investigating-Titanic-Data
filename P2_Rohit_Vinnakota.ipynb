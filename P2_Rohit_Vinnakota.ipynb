{
 "cells": [
  {
   "cell_type": "markdown",
   "metadata": {},
   "source": [
    "# PROJECT 2: INVESTIGATE A DATASET                                      Rohit Vinnakota"
   ]
  },
  {
   "cell_type": "markdown",
   "metadata": {},
   "source": [
    "### INTRODUCTION"
   ]
  },
  {
   "cell_type": "markdown",
   "metadata": {},
   "source": [
    "Project 2: Investigate a dataset\n",
    "\n",
    "For this project, I will be using Titanic survivor data provided by Kaggle. I will tackle the question recommended by Udacity of “What factors made people more likely to survive”. The following will be my road map on how I solve this problem. I will explore 3 independent variables which I will determine based on a). Common sense as to whether the variable can affect survival data and b). The number of null entries. \n",
    "\n",
    "First checking for null entries:"
   ]
  },
  {
   "cell_type": "code",
   "execution_count": 1,
   "metadata": {
    "collapsed": false
   },
   "outputs": [
    {
     "name": "stdout",
     "output_type": "stream",
     "text": [
      "PassengerId      0\n",
      "Survived         0\n",
      "Pclass           0\n",
      "Name             0\n",
      "Sex              0\n",
      "Age            177\n",
      "SibSp            0\n",
      "Parch            0\n",
      "Ticket           0\n",
      "Fare             0\n",
      "Cabin          687\n",
      "Embarked         2\n",
      "dtype: int64\n"
     ]
    }
   ],
   "source": [
    "import numpy as np\n",
    "import pandas as pd\n",
    "%matplotlib inline\n",
    "import matplotlib.pyplot as plt\n",
    "import seaborn as sns\n",
    "\n",
    "\n",
    "#Reading the CSV file\n",
    "titanic_data = pd.read_csv('titanic_data.csv')\n",
    "\n",
    "# Using the sum and isNull() function to potentially eliminate certain variables\n",
    "# from analysis\n",
    "print(titanic_data.isnull().sum())          "
   ]
  },
  {
   "cell_type": "markdown",
   "metadata": {},
   "source": [
    "As we can see, there are multiple variables that we may examine with no null values. Two obvious ones are Sex and Pclass. It seems unlikely that most other variables have any impact on who survived(variables with no null values)\n",
    "\n",
    "Amongst variables with null values, Cabin can be ignored as 687/891 data values is missing. With that much missing data, it is not reasonable to draw a conclusion. \n",
    "\n",
    "For the \"Embarked\" variable, I beleive that it may have a bearing on the Cabin number. However, due to the large amount of missing data, it is hard to establish thier relationship. I will ignore this variable. \n",
    "\n",
    "I will include the age column in my analysis and will tacke it in two different ways(More details in the age analysis section)\n",
    "\n",
    "Before starting on the analysis, I will delete all the data I will be ignoring. I also plan to do further wrangling but that will happen later."
   ]
  },
  {
   "cell_type": "code",
   "execution_count": 2,
   "metadata": {
    "collapsed": false
   },
   "outputs": [
    {
     "name": "stderr",
     "output_type": "stream",
     "text": [
      "C:\\Users\\Rohit\\Anaconda3\\lib\\site-packages\\numpy\\lib\\function_base.py:3823: RuntimeWarning: Invalid value encountered in percentile\n",
      "  RuntimeWarning)\n"
     ]
    },
    {
     "data": {
      "text/html": [
       "<div>\n",
       "<table border=\"1\" class=\"dataframe\">\n",
       "  <thead>\n",
       "    <tr style=\"text-align: right;\">\n",
       "      <th></th>\n",
       "      <th>Survived</th>\n",
       "      <th>Age</th>\n",
       "      <th>Pclass</th>\n",
       "    </tr>\n",
       "  </thead>\n",
       "  <tbody>\n",
       "    <tr>\n",
       "      <th>count</th>\n",
       "      <td>891.000000</td>\n",
       "      <td>714.000000</td>\n",
       "      <td>891.000000</td>\n",
       "    </tr>\n",
       "    <tr>\n",
       "      <th>mean</th>\n",
       "      <td>0.383838</td>\n",
       "      <td>29.699118</td>\n",
       "      <td>2.308642</td>\n",
       "    </tr>\n",
       "    <tr>\n",
       "      <th>std</th>\n",
       "      <td>0.486592</td>\n",
       "      <td>14.526497</td>\n",
       "      <td>0.836071</td>\n",
       "    </tr>\n",
       "    <tr>\n",
       "      <th>min</th>\n",
       "      <td>0.000000</td>\n",
       "      <td>0.420000</td>\n",
       "      <td>1.000000</td>\n",
       "    </tr>\n",
       "    <tr>\n",
       "      <th>25%</th>\n",
       "      <td>0.000000</td>\n",
       "      <td>NaN</td>\n",
       "      <td>2.000000</td>\n",
       "    </tr>\n",
       "    <tr>\n",
       "      <th>50%</th>\n",
       "      <td>0.000000</td>\n",
       "      <td>NaN</td>\n",
       "      <td>3.000000</td>\n",
       "    </tr>\n",
       "    <tr>\n",
       "      <th>75%</th>\n",
       "      <td>1.000000</td>\n",
       "      <td>NaN</td>\n",
       "      <td>3.000000</td>\n",
       "    </tr>\n",
       "    <tr>\n",
       "      <th>max</th>\n",
       "      <td>1.000000</td>\n",
       "      <td>80.000000</td>\n",
       "      <td>3.000000</td>\n",
       "    </tr>\n",
       "  </tbody>\n",
       "</table>\n",
       "</div>"
      ],
      "text/plain": [
       "         Survived         Age      Pclass\n",
       "count  891.000000  714.000000  891.000000\n",
       "mean     0.383838   29.699118    2.308642\n",
       "std      0.486592   14.526497    0.836071\n",
       "min      0.000000    0.420000    1.000000\n",
       "25%      0.000000         NaN    2.000000\n",
       "50%      0.000000         NaN    3.000000\n",
       "75%      1.000000         NaN    3.000000\n",
       "max      1.000000   80.000000    3.000000"
      ]
     },
     "execution_count": 2,
     "metadata": {},
     "output_type": "execute_result"
    }
   ],
   "source": [
    "titanic_data = titanic_data[['Sex','Survived','Age','Pclass']]\n",
    "titanic_data.describe()  #Checking to see if all the values are deleted. The warning can be ignored as I have not tackled the NaN's yet"
   ]
  },
  {
   "cell_type": "markdown",
   "metadata": {},
   "source": [
    "To get a general idea as to how disastrous the sinking was, we can observe the survival rate for the overall data "
   ]
  },
  {
   "cell_type": "code",
   "execution_count": 3,
   "metadata": {
    "collapsed": false
   },
   "outputs": [
    {
     "data": {
      "text/plain": [
       "Survived\n",
       "0    549\n",
       "1    342\n",
       "Name: Survived, dtype: int64"
      ]
     },
     "execution_count": 3,
     "metadata": {},
     "output_type": "execute_result"
    }
   ],
   "source": [
    "titanic_data.groupby('Survived').Survived.count()"
   ]
  },
  {
   "cell_type": "markdown",
   "metadata": {},
   "source": [
    "Only 342 people survived the disaster. In terms of survival rate that is 38.38% as seen in Out[2]"
   ]
  },
  {
   "cell_type": "markdown",
   "metadata": {},
   "source": [
    "### Question 1: What is the effect of Gender on survivability?"
   ]
  },
  {
   "cell_type": "markdown",
   "metadata": {},
   "source": [
    "#### Hypothesis: It is highly likely that more females survived than males due to priorititazion during times of crisis, espicially a few decades ago. Men were probably expected to let women and children esacpe first. "
   ]
  },
  {
   "cell_type": "markdown",
   "metadata": {},
   "source": [
    "First, I will examine the \"Sex\" variable by itself. A simple graph in pandas to determine the total number of males and females yields: "
   ]
  },
  {
   "cell_type": "code",
   "execution_count": 4,
   "metadata": {
    "collapsed": false
   },
   "outputs": [
    {
     "data": {
      "text/plain": [
       "Sex\n",
       "female    314\n",
       "male      577\n",
       "Name: Sex, dtype: int64"
      ]
     },
     "execution_count": 4,
     "metadata": {},
     "output_type": "execute_result"
    }
   ],
   "source": [
    "titanic_data.groupby('Sex').Sex.count()"
   ]
  },
  {
   "cell_type": "markdown",
   "metadata": {},
   "source": [
    "There are 314 femals and 577 males on the ship. It makes more sense to check the percentage of genders who survived rather than the actual numbers"
   ]
  },
  {
   "cell_type": "code",
   "execution_count": 5,
   "metadata": {
    "collapsed": false
   },
   "outputs": [
    {
     "data": {
      "text/plain": [
       "Sex\n",
       "female    0.742038\n",
       "male      0.188908\n",
       "Name: Survived, dtype: float64"
      ]
     },
     "execution_count": 5,
     "metadata": {},
     "output_type": "execute_result"
    }
   ],
   "source": [
    "titanic_data.groupby('Sex').Survived.mean()"
   ]
  },
  {
   "cell_type": "markdown",
   "metadata": {},
   "source": [
    "As we can see 74% of females made it out of the ship and only 19% of males did. There seems to be a significant correlation between gender and survivability. The same idea can be visualized like so: "
   ]
  },
  {
   "cell_type": "code",
   "execution_count": 6,
   "metadata": {
    "collapsed": false,
    "scrolled": true
   },
   "outputs": [
    {
     "data": {
      "text/plain": [
       "<matplotlib.axes._subplots.AxesSubplot at 0x152c3c41198>"
      ]
     },
     "execution_count": 6,
     "metadata": {},
     "output_type": "execute_result"
    },
    {
     "data": {
      "image/png": "[encoded data removed]",
      "text/plain": [
       "<matplotlib.figure.Figure at 0x152c3b84550>"
      ]
     },
     "metadata": {},
     "output_type": "display_data"
    }
   ],
   "source": [
    "sns.barplot(data =titanic_data, x='Sex',y='Survived')"
   ]
  },
  {
   "cell_type": "markdown",
   "metadata": {},
   "source": [
    "The difference can be further highlighted by a point plot:"
   ]
  },
  {
   "cell_type": "code",
   "execution_count": 7,
   "metadata": {
    "collapsed": false
   },
   "outputs": [
    {
     "data": {
      "text/plain": [
       "<matplotlib.axes._subplots.AxesSubplot at 0x152c3b74e48>"
      ]
     },
     "execution_count": 7,
     "metadata": {},
     "output_type": "execute_result"
    },
    {
     "data": {
      "image/png": "[encoded data removed]",
      "text/plain": [
       "<matplotlib.figure.Figure at 0x152c4046e48>"
      ]
     },
     "metadata": {},
     "output_type": "display_data"
    }
   ],
   "source": [
    "sns.pointplot(data = titanic_data, x='Sex',y='Survived',linestyles = '--')"
   ]
  },
  {
   "cell_type": "markdown",
   "metadata": {},
   "source": [
    "As we can see, the survival rate for females is far higher than that of males. \n",
    "\n",
    "Next, we can explore whether the class of a person has any impact on the survival rate. "
   ]
  },
  {
   "cell_type": "markdown",
   "metadata": {},
   "source": [
    "## Question 2: What is the effect of a person's class on survivability?"
   ]
  },
  {
   "cell_type": "markdown",
   "metadata": {},
   "source": [
    "#### Hypothesis: The upper classes probably had a higher survival rate as they might have been afforded extra luxuries and priviliges due to their high ticket cost. I would also hypothesize that a higher ticket cost might have secured the upper classes better cabins but due to the large amount of missing cabin data, it would be hard to veirfy this. "
   ]
  },
  {
   "cell_type": "markdown",
   "metadata": {},
   "source": [
    "First, we can figure out how many people there were in each class"
   ]
  },
  {
   "cell_type": "code",
   "execution_count": 8,
   "metadata": {
    "collapsed": false
   },
   "outputs": [
    {
     "data": {
      "text/plain": [
       "Pclass\n",
       "1    216\n",
       "2    184\n",
       "3    491\n",
       "Name: Survived, dtype: int64"
      ]
     },
     "execution_count": 8,
     "metadata": {},
     "output_type": "execute_result"
    }
   ],
   "source": [
    "titanic_data.groupby('Pclass').Survived.count()"
   ]
  },
  {
   "cell_type": "markdown",
   "metadata": {},
   "source": [
    "As we can see, there were more people in Class 3 than Classes 1 and 2 which have around the same number of people. Since there are a different number of people in different classes, it makes more sense to check survival rates rather than compare survival numbers"
   ]
  },
  {
   "cell_type": "code",
   "execution_count": 9,
   "metadata": {
    "collapsed": false
   },
   "outputs": [
    {
     "data": {
      "text/plain": [
       "Pclass\n",
       "1    0.629630\n",
       "2    0.472826\n",
       "3    0.242363\n",
       "Name: Survived, dtype: float64"
      ]
     },
     "execution_count": 9,
     "metadata": {},
     "output_type": "execute_result"
    }
   ],
   "source": [
    "titanic_data.groupby('Pclass').Survived.mean()"
   ]
  },
  {
   "cell_type": "code",
   "execution_count": 10,
   "metadata": {
    "collapsed": false
   },
   "outputs": [
    {
     "data": {
      "text/plain": [
       "[<matplotlib.text.Text at 0x152c404ceb8>,\n",
       " <matplotlib.text.Text at 0x152c4063080>]"
      ]
     },
     "execution_count": 10,
     "metadata": {},
     "output_type": "execute_result"
    },
    {
     "data": {
      "image/png": "[encoded data removed]",
      "text/plain": [
       "<matplotlib.figure.Figure at 0x152c4058f60>"
      ]
     },
     "metadata": {},
     "output_type": "display_data"
    }
   ],
   "source": [
    "g1 = sns.barplot(data =titanic_data,x='Pclass',y='Survived')\n",
    "g1.set(xlabel = 'Class', ylabel = 'Percentile that survived')"
   ]
  },
  {
   "cell_type": "markdown",
   "metadata": {},
   "source": [
    "Class 1 has the highest survival rate, and the rate drops as the class number increases. It seems that the upper classes were prioritized during the time the ship was sinking. Similarly a point plot yields:"
   ]
  },
  {
   "cell_type": "code",
   "execution_count": 11,
   "metadata": {
    "collapsed": false
   },
   "outputs": [
    {
     "data": {
      "text/plain": [
       "<matplotlib.axes._subplots.AxesSubplot at 0x152c40e9ef0>"
      ]
     },
     "execution_count": 11,
     "metadata": {},
     "output_type": "execute_result"
    },
    {
     "data": {
      "image/png": "[encoded data removed]",
      "text/plain": [
       "<matplotlib.figure.Figure at 0x152c41365c0>"
      ]
     },
     "metadata": {},
     "output_type": "display_data"
    }
   ],
   "source": [
    "sns.pointplot(data =titanic_data,x='Pclass',y='Survived',linestyles =\"--\")"
   ]
  },
  {
   "cell_type": "code",
   "execution_count": 12,
   "metadata": {
    "collapsed": false
   },
   "outputs": [
    {
     "data": {
      "text/plain": [
       "Survived  Pclass\n",
       "0         1          80\n",
       "          2          97\n",
       "          3         372\n",
       "1         1         136\n",
       "          2          87\n",
       "          3         119\n",
       "Name: Survived, dtype: int64"
      ]
     },
     "execution_count": 12,
     "metadata": {},
     "output_type": "execute_result"
    }
   ],
   "source": [
    "titanic_data.groupby(['Survived','Pclass']).Survived.count()"
   ]
  },
  {
   "cell_type": "markdown",
   "metadata": {},
   "source": [
    "It is interesting that more people in Class 1 survived than Class 3 despite Class 1 having 275 less people than Class 3. "
   ]
  },
  {
   "cell_type": "markdown",
   "metadata": {},
   "source": [
    "## Question 3: What is the effect of a person's age on survivability?"
   ]
  },
  {
   "cell_type": "markdown",
   "metadata": {},
   "source": [
    "#### Hypothesis: Younger people would probably have a higher survival rate. I hypothesize that people below 18 were probably evacuated first as the older people stayed onboard to rescue other. I also hypothesize that parents would probably make sure their children are safe first before securing their own safety. "
   ]
  },
  {
   "cell_type": "markdown",
   "metadata": {},
   "source": [
    "In order to group different ages, we can create different age groups. We will analyze 2 subsets of the titanic data. For the first subset, we will fill in a predicted age for individuals. For the second subset, we will eliminate the individuals will the null age entry. Hopefully, there is a minimal difference for both datasets."
   ]
  },
  {
   "cell_type": "code",
   "execution_count": 13,
   "metadata": {
    "collapsed": false
   },
   "outputs": [],
   "source": [
    "\n",
    "original_data = titanic_data.copy()"
   ]
  },
  {
   "cell_type": "code",
   "execution_count": 14,
   "metadata": {
    "collapsed": false
   },
   "outputs": [
    {
     "name": "stdout",
     "output_type": "stream",
     "text": [
      "Max age: \n",
      "80.0\n",
      "Min age:\n",
      "0.42\n"
     ]
    }
   ],
   "source": [
    "print(\"Max age: \")\n",
    "print(original_data.Age.max())\n",
    "print(\"Min age:\")\n",
    "print(original_data.Age.min())"
   ]
  },
  {
   "cell_type": "markdown",
   "metadata": {
    "collapsed": true
   },
   "source": [
    "Here the max age in 80 years and the minimum age is 0.42 years. We can create age groups to fill in an average age for the missing age values. I will use the average age combining gender and class and fill it in for the corresponding NaN values."
   ]
  },
  {
   "cell_type": "code",
   "execution_count": 15,
   "metadata": {
    "collapsed": false
   },
   "outputs": [
    {
     "data": {
      "text/plain": [
       "Pclass  Sex   \n",
       "1       female    34.611765\n",
       "        male      41.281386\n",
       "2       female    28.722973\n",
       "        male      30.740707\n",
       "3       female    21.750000\n",
       "Name: Age, dtype: float64"
      ]
     },
     "execution_count": 15,
     "metadata": {},
     "output_type": "execute_result"
    }
   ],
   "source": [
    "m1 = titanic_data.groupby(['Pclass','Sex']).Age.mean()\n",
    "m1.head()"
   ]
  },
  {
   "cell_type": "markdown",
   "metadata": {},
   "source": [
    "These are the average ages of the different genders and classes combined. I will fill in these ages in the Age column where the values are NaN. The original code replaced index values. The updated code uses the apply method to transform the dataframe"
   ]
  },
  {
   "cell_type": "code",
   "execution_count": 16,
   "metadata": {
    "collapsed": false
   },
   "outputs": [
    {
     "data": {
      "text/html": [
       "<div>\n",
       "<table border=\"1\" class=\"dataframe\">\n",
       "  <thead>\n",
       "    <tr style=\"text-align: right;\">\n",
       "      <th></th>\n",
       "      <th>Survived</th>\n",
       "      <th>Age</th>\n",
       "      <th>Pclass</th>\n",
       "    </tr>\n",
       "  </thead>\n",
       "  <tbody>\n",
       "    <tr>\n",
       "      <th>count</th>\n",
       "      <td>891.000000</td>\n",
       "      <td>891.000000</td>\n",
       "      <td>891.000000</td>\n",
       "    </tr>\n",
       "    <tr>\n",
       "      <th>mean</th>\n",
       "      <td>0.383838</td>\n",
       "      <td>29.318643</td>\n",
       "      <td>2.308642</td>\n",
       "    </tr>\n",
       "    <tr>\n",
       "      <th>std</th>\n",
       "      <td>0.486592</td>\n",
       "      <td>13.281103</td>\n",
       "      <td>0.836071</td>\n",
       "    </tr>\n",
       "    <tr>\n",
       "      <th>min</th>\n",
       "      <td>0.000000</td>\n",
       "      <td>0.420000</td>\n",
       "      <td>1.000000</td>\n",
       "    </tr>\n",
       "    <tr>\n",
       "      <th>25%</th>\n",
       "      <td>0.000000</td>\n",
       "      <td>21.750000</td>\n",
       "      <td>2.000000</td>\n",
       "    </tr>\n",
       "    <tr>\n",
       "      <th>50%</th>\n",
       "      <td>0.000000</td>\n",
       "      <td>26.507589</td>\n",
       "      <td>3.000000</td>\n",
       "    </tr>\n",
       "    <tr>\n",
       "      <th>75%</th>\n",
       "      <td>1.000000</td>\n",
       "      <td>36.000000</td>\n",
       "      <td>3.000000</td>\n",
       "    </tr>\n",
       "    <tr>\n",
       "      <th>max</th>\n",
       "      <td>1.000000</td>\n",
       "      <td>80.000000</td>\n",
       "      <td>3.000000</td>\n",
       "    </tr>\n",
       "  </tbody>\n",
       "</table>\n",
       "</div>"
      ],
      "text/plain": [
       "         Survived         Age      Pclass\n",
       "count  891.000000  891.000000  891.000000\n",
       "mean     0.383838   29.318643    2.308642\n",
       "std      0.486592   13.281103    0.836071\n",
       "min      0.000000    0.420000    1.000000\n",
       "25%      0.000000   21.750000    2.000000\n",
       "50%      0.000000   26.507589    3.000000\n",
       "75%      1.000000   36.000000    3.000000\n",
       "max      1.000000   80.000000    3.000000"
      ]
     },
     "execution_count": 16,
     "metadata": {},
     "output_type": "execute_result"
    }
   ],
   "source": [
    "#Original code\n",
    "\"\"\"titanic_data.fillna(value=0,inplace = True)\n",
    "for x in range(len(titanic_data)):\n",
    "    if titanic_data.iloc[x,2] == 0:\n",
    "        if titanic_data.iloc[x,1] == 'male':\n",
    "            if titanic_data.iloc[x,3] == 1:\n",
    "                titanic_data.iloc[x,2] = dict1['1m']\n",
    "            elif titanic_data.iloc[x,3] == 2:\n",
    "                titanic_data.iloc[x,2] = dict1['2m']\n",
    "            else:\n",
    "                titanic_data.iloc[x,2] = dict1['3m']\n",
    "        else:\n",
    "            if titanic_data.iloc[x,3] == 1:\n",
    "                titanic_data.iloc[x,2] = dict1['1f']\n",
    "            elif titanic_data.iloc[x,3] == 2:\n",
    "                titanic_data.iloc[x,2] = dict1['2f']\n",
    "            else:\n",
    "                titanic_data.iloc[x,2] = dict1['3f'] \"\"\"\n",
    "\n",
    "\n",
    "def age_applier(axis):\n",
    "    if pd.isnull(axis['Age']):\n",
    "        return m1[axis['Pclass'],axis['Sex']]\n",
    "    else:\n",
    "        return axis['Age']\n",
    "    \n",
    "titanic_data['Age'] =titanic_data.apply(age_applier, axis=1)\n",
    "\n",
    "titanic_data.describe()\n",
    "\n"
   ]
  },
  {
   "cell_type": "code",
   "execution_count": 17,
   "metadata": {
    "collapsed": false
   },
   "outputs": [
    {
     "data": {
      "image/png": "[encoded data removed]",
      "text/plain": [
       "<matplotlib.figure.Figure at 0x152c40292e8>"
      ]
     },
     "metadata": {},
     "output_type": "display_data"
    }
   ],
   "source": [
    "titanic_data['Age_group'] = pd.cut(titanic_data['Age'], bins= 7, include_lowest=True)\n",
    "g2 = sns.barplot(data =titanic_data,x='Age_group',y='Survived',orient =0)\n",
    "sns.set_context(\"poster\",font_scale=0.6)"
   ]
  },
  {
   "cell_type": "markdown",
   "metadata": {},
   "source": [
    "With our estimated data filled in, we see that age groups 0.34 years to 11.789 years have a high survival rate and the middle aged people have a higher survival rate than the rest. This would make sense as the older people may have been less physically able to rescue themselves. This could also imply that the rescue prioritized women and children first. In order to further emphasize the above finding, I will investigate the data with the missing ages removed. \n",
    "\n",
    "The advantage of this is we can use original data. However we will have a smaller sample size. We will use the original_data dataframe created prior to achieve this."
   ]
  },
  {
   "cell_type": "code",
   "execution_count": 18,
   "metadata": {
    "collapsed": false
   },
   "outputs": [
    {
     "data": {
      "image/png": "[encoded data removed]",
      "text/plain": [
       "<matplotlib.figure.Figure at 0x152c46e3048>"
      ]
     },
     "metadata": {},
     "output_type": "display_data"
    }
   ],
   "source": [
    "original_data = original_data.dropna(subset=['Age'])\n",
    "original_data['Age_group'] = pd.cut(original_data['Age'], bins= 7, include_lowest=True)\n",
    "g3 = sns.barplot(data =original_data,x='Age_group',y='Survived',orient =0)\n",
    "sns.set_context(\"poster\",font_scale=0.6)"
   ]
  },
  {
   "cell_type": "markdown",
   "metadata": {},
   "source": [
    "As we can see, the predicted data was a good prediction since the survival rates for the ages with a smaller sample size is still very close to the predicted survival rates. The only difference occurs in the (11.789,23.157] bin. Thus we can conclude that children and middle aged people had a higher survival rate. "
   ]
  },
  {
   "cell_type": "markdown",
   "metadata": {},
   "source": [
    "Using the above findings, it is reasonable to conclude that a female child belonging to class 1 would theoritically have the highest survival rate. We can also say the following statements with a good degree of confidence\n",
    "\n",
    "-->People belonging to class 1 have a higher survival rate than other classes\n",
    "-->Females have a higher survival rate than males\n",
    "-->Middle aged people have a higher survival rate than older people"
   ]
  },
  {
   "cell_type": "markdown",
   "metadata": {},
   "source": [
    "## Further Discussion and Limitations\n",
    "\n",
    "The following are reasonable conclusions for each of my Questions\n",
    "\n",
    "1) Females have a higher survival rate than males\n",
    "\n",
    "2) The upper class has a higher surviavl rate than the lower classes\n",
    "\n",
    "3) Children below 11 have a high survial rate\n",
    "\n",
    "Given the missing cabin data, one can determine if the port embarked on had any bearing on their cabin number. One could also determine if cabin number was determined by class and would be able to make an educated guess as to whether only classes correlate to survival rate, or if they were also affected by cabin number and port embarked.\n",
    "\n",
    "To further solidify these conclusions, a chi-square test of association can be performed to test against the Null hypothesis that there is a dependence between Survival rate and Gender,Pclass,and Age bracket(if we consider each age bracket as a category of the Age variable). and 'Survived' is considered categorical. Should the p-value be lower than our confidence level, we would reject the null hypothesis and accept the alternative hypothesis. Should the alternative hypothesis be accepted, we can confidently say that there is a correlation between survivability and the variable we are considering as the descriptive graphs in this project only strongly imply correlation, not confirm it. \n",
    "\n",
    "The project attempts to determine a relationship between survivability and a person's broadly general qualities.  The following featuers may also have some effect on survivability should there be some way to measure them\n",
    "\n",
    "--> Size of rooms\n",
    "\n",
    "--> Nationality\n",
    "\n",
    "--> Occupation of passenger \n",
    "\n",
    "--> Ethnicity\n",
    "\n",
    "--> Physical capabilities of the person\n",
    "\n",
    "--> Location of person on the ship\n",
    "\n",
    "I believe that the factor that determined whether a person survived is a combination of all these variables. Certain factors may have a higher effect on survivability but it may be impossible to predict with 100% accuracy if a given person would survive or not even if we have access to all these attributes for every person. \n",
    "\n",
    "Our accuracy may naturally go up if there were more passengers aboard the Titanic. Even though we almost have a 1000 points in the dataset, a greater number of passengers will enable us to handle missing values more efficiently. \n",
    "\n",
    "I only explored 3 questions for this project. The following questions are also valid from the data we have.\n",
    "\n",
    "--> Do families have a greater rate of survival? We can determine if individuals who looked out for themselves had a higher chance of escaping or if families were given priority for escaping. \n",
    "\n",
    "--> Is there any evidence of Simpson's paradox? Perhaps certain trends that appear in the overall dataset do not appear in a subset(Example: A certain age group may have higher survival rate amongst males than females). We can use this to develop insights into that population category. "
   ]
  },
  {
   "cell_type": "markdown",
   "metadata": {},
   "source": [
    "Sources\n",
    "http://stackoverflow.com/questions/26266362/how-to-count-the-nan-values-in-the-column-in-panda-data-frame\n",
    "\n",
    "http://matplotlib.org/api/pyplot_api.html#matplotlib.pyplot.hist\n",
    "\n",
    "https://stanford.edu/~mwaskom/software/seaborn/tutorial/distributions.html\n",
    "\n",
    "http://pandas.pydata.org/pandas-docs/version/0.17.1/generated/pandas.cut.html\n",
    "\n",
    "http://stackoverflow.com/questions/34251641/how-to-make-a-bar-plot-of-non-numerical-data-in-pandas\n",
    "\n",
    "http://www.titanicandco.com/inside.html\n",
    "\n",
    "http://docs.scipy.org/doc/scipy/reference/generated/scipy.stats.chisquare.html\n",
    "\n",
    "http://stackoverflow.com/questions/29293369/pandas-fillna-with-a-lookup-table"
   ]
  }
 ],
 "metadata": {
  "anaconda-cloud": {},
  "kernelspec": {
   "display_name": "Python [Root]",
   "language": "python",
   "name": "Python [Root]"
  },
  "language_info": {
   "codemirror_mode": {
    "name": "ipython",
    "version": 3
   },
   "file_extension": ".py",
   "mimetype": "text/x-python",
   "name": "python",
   "nbconvert_exporter": "python",
   "pygments_lexer": "ipython3",
   "version": "3.5.1"
  }
 },
 "nbformat": 4,
 "nbformat_minor": 0
}
